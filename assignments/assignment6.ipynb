{
 "cells": [
  {
   "cell_type": "markdown",
   "metadata": {},
   "source": [
    "$$E(U(x)) = \\mu - \\frac{\\alpha}{2}(\\sigma^2 + \\mu^2)$$\n",
    "$$U(x_{CE}) = \\mu - \\frac{\\alpha}{2}(\\sigma^2 + \\mu^2)$$\n",
    "$$x_{CE} = \\frac{1 \\pm \\sqrt{1 - 2\\alpha \\mu + \\alpha^2 (\\mu^2 + \\sigma^2)}}{\\alpha} $$\n",
    "$$\\pi_{A} = E(x) - x_{CE} = \\mu - \\frac{1 \\pm \\sqrt{1 - 2\\alpha \\mu + \\alpha^2 (\\mu^2 + \\sigma^2)}}{\\alpha}$$\n",
    "\n"
   ]
  },
  {
   "cell_type": "markdown",
   "metadata": {},
   "source": [
    "$$x \\sim \\mathcal{N}(1 + z\\mu + (1 - z)r, z^2 \\sigma^2)$$\n",
    "$$E(U(x)) = 1 + z\\mu + (1 - z)r - \\frac{\\alpha}{2} (z^2\\sigma^2 + (1 + z\\mu + (1 - z)r)^2)$$\n",
    "To maximize $E(U(x))$, we can get $$z^{*} = \\frac{(\\mu - r)(1-\\alpha(1+r))}{\\alpha (\\sigma^2 + (\\mu - r)^2)}$$"
   ]
  },
  {
   "cell_type": "code",
   "execution_count": 1,
   "metadata": {},
   "outputs": [],
   "source": [
    "import matplotlib.pyplot as plt\n",
    "import numpy as np"
   ]
  },
  {
   "cell_type": "code",
   "execution_count": 2,
   "metadata": {},
   "outputs": [
    {
     "data": {
      "text/plain": [
       "[<matplotlib.lines.Line2D at 0x1168351d0>]"
      ]
     },
     "execution_count": 2,
     "metadata": {},
     "output_type": "execute_result"
    },
    {
     "data": {
      "image/png": "[encoded data removed]",
      "text/plain": [
       "<Figure size 432x288 with 1 Axes>"
      ]
     },
     "metadata": {
      "needs_background": "light"
     },
     "output_type": "display_data"
    }
   ],
   "source": [
    "def f(x):\n",
    "    mu = 0.05\n",
    "    r = 0.03\n",
    "    sigma_sq = 0.04\n",
    "    return (mu - r) * (1 - x *(1 + r)) / (x * (sigma_sq + (mu - r) ** 2))\n",
    "X = np.arange(0.01, 1, 0.01)\n",
    "\n",
    "\n",
    "plt.plot(X, f(X))"
   ]
  },
  {
   "cell_type": "code",
   "execution_count": null,
   "metadata": {},
   "outputs": [],
   "source": []
  }
 ],
 "metadata": {
  "kernelspec": {
   "display_name": "Python 3",
   "language": "python",
   "name": "python3"
  },
  "language_info": {
   "codemirror_mode": {
    "name": "ipython",
    "version": 3
   },
   "file_extension": ".py",
   "mimetype": "text/x-python",
   "name": "python",
   "nbconvert_exporter": "python",
   "pygments_lexer": "ipython3",
   "version": "3.7.4"
  }
 },
 "nbformat": 4,
 "nbformat_minor": 2
}
