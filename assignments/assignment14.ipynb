{
 "cells": [
  {
   "cell_type": "code",
   "execution_count": 1,
   "metadata": {},
   "outputs": [],
   "source": [
    "import sys\n",
    "sys.path.append('/Users/mac/Downloads/RL-book-master')"
   ]
  },
  {
   "cell_type": "code",
   "execution_count": 11,
   "metadata": {},
   "outputs": [],
   "source": [
    "from typing import Iterable, Iterator, Tuple, TypeVar, Mapping, Sequence, Callable\n",
    "\n",
    "from rl.distribution import (Bernoulli, Constant, Categorical, Choose,\n",
    "                             Distribution, FiniteDistribution)\n",
    "from rl.function_approx import FunctionApprox\n",
    "from rl.markov_process import  TransitionStep\n",
    "import rl.markov_decision_process as markov_decision_process\n",
    "from rl.markov_decision_process import (MarkovDecisionProcess, Policy)\n",
    "from rl.returns import returns\n",
    "from collections import defaultdict\n",
    "import numpy as np\n",
    "S = TypeVar('S')"
   ]
  },
  {
   "cell_type": "code",
   "execution_count": 12,
   "metadata": {},
   "outputs": [],
   "source": [
    "def LSTD(traces: Iterable[TransitionStep[S]],\n",
    "         phi_s: Sequence[Callable[[S], float]],\n",
    "         gamma: float)-> Mapping[S,float]:\n",
    "    m = len(phi)\n",
    "    A = np.zeros((m,m))\n",
    "    b = np.zeros(m)\n",
    "    v = {}\n",
    "    for (state, reward, next_state) in traces:\n",
    "        v[state] = 0\n",
    "        features_this = [phi(state) for phi in phi_s]\n",
    "        features_next = [phi(next_state) for phi in phi_s]\n",
    "        A = A + np.outer(features_this, features_this - gamma * features_next)\n",
    "        b = b + features_this * reward\n",
    "    w = np.dot(np.linalg.inv(A),b)\n",
    "    for state in v:\n",
    "        features = [phi(state) for phi in phi_s]\n",
    "        v[state] = np.dot(features, w)\n",
    "    return v\n",
    "    \n",
    "       "
   ]
  },
  {
   "cell_type": "code",
   "execution_count": null,
   "metadata": {},
   "outputs": [],
   "source": []
  }
 ],
 "metadata": {
  "kernelspec": {
   "display_name": "Python 3",
   "language": "python",
   "name": "python3"
  },
  "language_info": {
   "codemirror_mode": {
    "name": "ipython",
    "version": 3
   },
   "file_extension": ".py",
   "mimetype": "text/x-python",
   "name": "python",
   "nbconvert_exporter": "python",
   "pygments_lexer": "ipython3",
   "version": "3.7.4"
  }
 },
 "nbformat": 4,
 "nbformat_minor": 2
}
