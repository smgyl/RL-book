{
 "cells": [
  {
   "cell_type": "markdown",
   "metadata": {},
   "source": [
    "$$\\sum_{u = t}^{T - 1}\\gamma^{u - t}\\cdot(R_{u + 1} + \\gamma \\cdot V(S_{u+1}) - V(s_u)$$\n",
    "$$= \\sum_{u = t}^{T - 1}\\gamma^{u - t}\\cdot R_{u + 1} + \\sum_{u = t}^{T - 1} \\gamma^{u + 1 - t}V(S_{u + 1}) - \\sum_{u = t}^{T - 1}\\gamma^{u - t}V(s_u)$$\n",
    "$$= G_t + \\sum_{v = t + 1}^{T} \\gamma^{v - t}V(S_{v}) - \\sum_{u = t}^{T - 1}\\gamma^{u - t}V(s_u)$$\n",
    "$$= G_t - V(S_t)$$"
   ]
  },
  {
   "cell_type": "code",
   "execution_count": null,
   "metadata": {},
   "outputs": [],
   "source": []
  }
 ],
 "metadata": {
  "kernelspec": {
   "display_name": "Python 3",
   "language": "python",
   "name": "python3"
  },
  "language_info": {
   "codemirror_mode": {
    "name": "ipython",
    "version": 3
   },
   "file_extension": ".py",
   "mimetype": "text/x-python",
   "name": "python",
   "nbconvert_exporter": "python",
   "pygments_lexer": "ipython3",
   "version": "3.7.4"
  }
 },
 "nbformat": 4,
 "nbformat_minor": 2
}
