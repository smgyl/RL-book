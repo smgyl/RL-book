{
 "cells": [
  {
   "cell_type": "markdown",
   "metadata": {},
   "source": [
    "$$V^{\\pi_{D}}(s) = R(s, \\pi_{D}(s)) + \\gamma \\sum_{s^{'} \\in \\mathcal{N}}P(s, \\pi_{D}(s), s^{'})V^{\\pi_{D}}(s^{'})$$\n",
    "$$V^{\\pi_{D}}(s) = Q^{\\pi_{D}}(s, \\pi_{D}(s))$$\n",
    "$$Q^{\\pi_{D}}(s, a) = R(s, a) + \\gamma \\sum_{s^{'} \\in \\mathcal{N}}P(s, a, s^{'})V^{\\pi_{D}}(s^{'})$$\n",
    "$$Q^{\\pi_{D}}(s, a) = R(s, a) + \\gamma \\sum_{s^{'} \\in \\mathcal{N}}P(s, a, s^{'})Q^{\\pi_{D}}(s^{'}, \\pi_{D}(s^{'}))$$"
   ]
  },
  {
   "cell_type": "code",
   "execution_count": null,
   "metadata": {},
   "outputs": [],
   "source": []
  }
 ],
 "metadata": {
  "kernelspec": {
   "display_name": "Python 3",
   "language": "python",
   "name": "python3"
  },
  "language_info": {
   "codemirror_mode": {
    "name": "ipython",
    "version": 3
   },
   "file_extension": ".py",
   "mimetype": "text/x-python",
   "name": "python",
   "nbconvert_exporter": "python",
   "pygments_lexer": "ipython3",
   "version": "3.7.4"
  }
 },
 "nbformat": 4,
 "nbformat_minor": 2
}
