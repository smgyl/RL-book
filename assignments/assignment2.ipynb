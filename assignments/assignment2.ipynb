{
 "cells": [
  {
   "cell_type": "code",
   "execution_count": 1,
   "metadata": {},
   "outputs": [],
   "source": [
    "import sys\n",
    "sys.path.append('/Users/mac/Downloads/RL-book-master')\n"
   ]
  },
  {
   "cell_type": "code",
   "execution_count": 62,
   "metadata": {},
   "outputs": [],
   "source": [
    "from rl.markov_process import MarkovProcess, FiniteMarkovProcess\n",
    "from rl.markov_process import Transition, FiniteMarkovRewardProcess, RewardTransition\n",
    "from rl.distribution import Categorical, Constant, Choose\n",
    "from typing import Dict, Tuple\n",
    "import numpy as np\n",
    "import matplotlib.pyplot as plt"
   ]
  },
  {
   "cell_type": "code",
   "execution_count": 63,
   "metadata": {},
   "outputs": [],
   "source": [
    "class Snakeandladder(FiniteMarkovProcess[int]):\n",
    "    \n",
    "    def __init__(self, jump:Dict[int, int], N:int):\n",
    "        self.N = N\n",
    "        self.jump = jump\n",
    "        super().__init__(self.get_transition_map())\n",
    "      \n",
    "        \n",
    "    \n",
    "    def get_transition_map(self) -> \\\n",
    "    Transition[int]:\n",
    "        d: Dict[int, Categorical[int]] = {}\n",
    "        \n",
    "        for i in range(1 + self.N):\n",
    "            if i in self.jump.keys():\n",
    "                continue\n",
    "            elif i == self.N:\n",
    "                d[i] = None\n",
    "            else:\n",
    "                nextstate = {}\n",
    "                for j in range(1, 7, 1):\n",
    "                    if (i + j) in self.jump.keys():\n",
    "                        nextstate[self.jump[i + j]] = 1.0 / 6\n",
    "                    elif i + j > self.N:\n",
    "                        if (2 * self.N - i - j) in self.jump.keys():\n",
    "                            if self.jump[2 * self.N - i - j] in nextstate.keys(): \n",
    "                                nextstate[self.jump[2 * self.N - i - j]] += 1.0 / 6\n",
    "                            else:\n",
    "                                nextstate[self.jump[2 * self.N - i - j]] = 1.0 / 6 \n",
    "                        elif (2 * self.N - i - j) in nextstate.keys():\n",
    "                            nextstate[2 * self.N - i - j] += 1.0 / 6 \n",
    "                        else:\n",
    "                            nextstate[2 * self.N - i - j] = 1.0 / 6 \n",
    "                    else:\n",
    "                        nextstate[i + j] = 1.0 / 6\n",
    "                d[i] = Categorical(nextstate)\n",
    "        return d\n",
    "                \n",
    "                \n",
    "            \n",
    "            \n",
    "                "
   ]
  },
  {
   "cell_type": "code",
   "execution_count": 69,
   "metadata": {},
   "outputs": [],
   "source": [
    "my_jump = {1:38,4:14,9:31,16:6,21:42,36:44,47:26,49:11,51:67,56:53,\n",
    "                                62:19,64:60,71:91,80:100,87:24,93:73,95:75,98:78}\n",
    "sal1 = Snakeandladder(my_jump, 100)\n",
    "my_traces = sal1.traces(Choose([0]))\n",
    "\n"
   ]
  },
  {
   "cell_type": "code",
   "execution_count": 83,
   "metadata": {},
   "outputs": [
    {
     "name": "stdout",
     "output_type": "stream",
     "text": [
      "average number is  54.7599\n"
     ]
    },
    {
     "data": {
      "image/png": "[encoded data removed]",
      "text/plain": [
       "<Figure size 432x288 with 1 Axes>"
      ]
     },
     "metadata": {
      "needs_background": "light"
     },
     "output_type": "display_data"
    }
   ],
   "source": [
    "snake_trace_list = [list( next(my_traces) ) for i in range(10000) ]\n",
    "plt.hist([len(x) for x in snake_trace_list])\n",
    "print(\"average number is \", np.mean([len(x) for x in snake_trace_list]))"
   ]
  },
  {
   "cell_type": "code",
   "execution_count": 79,
   "metadata": {},
   "outputs": [],
   "source": [
    "class FrogMRP(FiniteMarkovRewardProcess[int]):\n",
    "    \n",
    "    def __init__(self, N:int):\n",
    "        self.N = N\n",
    "        super().__init__(self.get_transition_reward_map())\n",
    "      \n",
    "        \n",
    "    \n",
    "    def get_transition_reward_map(self) -> \\\n",
    "    RewardTransition[int]:\n",
    "        d: Dict[int, Categorical[Tuple[int, int]]] = {}\n",
    "        for i in range(1 + self.N):\n",
    "            if i == self.N:\n",
    "                d[i] = None\n",
    "            else:\n",
    "                d1 = {}\n",
    "                for j in range(i + 1, self.N + 1):\n",
    "                    d1[(j, 1)] = 1.0 / (self.N - i)\n",
    "                d[i] = Categorical(d1)\n",
    "        return d\n",
    "                \n",
    "     "
   ]
  },
  {
   "cell_type": "code",
   "execution_count": 84,
   "metadata": {},
   "outputs": [
    {
     "data": {
      "text/plain": [
       "3.5977396571436806"
      ]
     },
     "execution_count": 84,
     "metadata": {},
     "output_type": "execute_result"
    }
   ],
   "source": [
    "frog1 = FrogMRP(20)\n",
    "frog1.get_value_function_vec(gamma = 1)[0]    "
   ]
  },
  {
   "cell_type": "code",
   "execution_count": 35,
   "metadata": {},
   "outputs": [],
   "source": [
    "class SnakeandladderMRP(FiniteMarkovRewardProcess[int]):\n",
    "    \n",
    "    def __init__(self, jump:Dict[int, int], N:int):\n",
    "        self.N = N\n",
    "        self.jump = jump\n",
    "        super().__init__(self.get_transition_reward_map())\n",
    "      \n",
    "        \n",
    "    \n",
    "    def get_transition_reward_map(self) -> \\\n",
    "    RewardTransition[int]:\n",
    "        d: Dict[int, Categorical[Tuple[int, int]]] = {}\n",
    "        \n",
    "        for i in range(1 + self.N):\n",
    "            if i in self.jump.keys():\n",
    "                continue\n",
    "            elif i == self.N:\n",
    "                d[i] = None\n",
    "            else:\n",
    "                nextstate = {}\n",
    "                for j in range(1, 7, 1):\n",
    "                    if (i + j) in self.jump.keys():\n",
    "                        nextstate[(self.jump[i + j], 1)] = 1.0 / 6\n",
    "                    elif i + j > self.N:\n",
    "                        if (2 * self.N - i - j) in self.jump.keys():\n",
    "                            if (self.jump[2 * self.N - i - j], 1) in nextstate.keys():\n",
    "                                nextstate[(self.jump[2 * self.N - i - j], 1)] += 1.0 / 6\n",
    "                            else:\n",
    "                                nextstate[(self.jump[2 * self.N - i - j], 1)] = 1.0 / 6 \n",
    "                        elif (2 * self.N - i - j, 1) in nextstate.keys():\n",
    "                            nextstate[(2 * self.N - i - j, 1)] += 1.0 / 6 \n",
    "                        else:\n",
    "                            nextstate[(2 * self.N - i - j, 1)] = 1.0 / 6 \n",
    "                    else:\n",
    "                        nextstate[(i + j, 1)] = 1.0 / 6\n",
    "                d[i] = Categorical(nextstate)\n",
    "        return d\n",
    "                \n",
    "                "
   ]
  },
  {
   "cell_type": "code",
   "execution_count": 36,
   "metadata": {},
   "outputs": [],
   "source": [
    "my_jump = {1:38,4:14,9:31,16:6,21:42,36:44,47:26,49:11,51:67,56:53, 62:19,64:60,71:91,80:100,87:24,93:73,95:75,98:78}\n",
    "salmrp1 = SnakeandladderMRP(my_jump, 100)"
   ]
  },
  {
   "cell_type": "code",
   "execution_count": 85,
   "metadata": {},
   "outputs": [
    {
     "name": "stdout",
     "output_type": "stream",
     "text": [
      "expected number is  54.16854120736832\n"
     ]
    }
   ],
   "source": [
    "print(\"expected number is \", salmrp1.get_value_function_vec(gamma = 1)[0])"
   ]
  },
  {
   "cell_type": "code",
   "execution_count": 124,
   "metadata": {},
   "outputs": [],
   "source": [
    "from rl.chapter2.stock_price_mp import StockPriceMP2, StateMP2\n",
    "from rl.markov_process import MarkovRewardProcess\n",
    "from rl.distribution import SampledDistribution, Constant\n",
    "import numpy as np"
   ]
  },
  {
   "cell_type": "code",
   "execution_count": 190,
   "metadata": {},
   "outputs": [],
   "source": [
    "class Sp2mrp(MarkovRewardProcess[StateMP2]):\n",
    "    \n",
    "    def __init__(self, alpha2 : float, f):\n",
    "                \n",
    "        self.stock = StockPriceMP2(alpha2)\n",
    "        self.f  = f\n",
    "        \n",
    "    def transition_reward(self, s: StateMP2) -> SampledDistribution[Tuple[StateMP2,float]]:\n",
    "        \n",
    "        def sr(s = s) -> Tuple[StateMP2,float]:\n",
    "            s1 : StateMP2 = self.stock.transition(s).sample()\n",
    "            reward: float = self.f(s1)\n",
    "            return s1, reward\n",
    "        \n",
    "        return SampledDistribution(sr)\n",
    "    def get_value_function(self, s: StateMP2, iternum: int, trnum: int, gamma: float):\n",
    "        lst = []\n",
    "        for i in range(trnum): \n",
    "            value = 0\n",
    "            s1 = s\n",
    "            \n",
    "            for j in range(iternum):\n",
    "              \n",
    "                s1, reward = self.transition_reward(s1).sample()\n",
    "                \n",
    "                value += reward * (gamma ** j)\n",
    "            lst.append(value)\n",
    "        return np.mean(lst)"
   ]
  },
  {
   "cell_type": "code",
   "execution_count": 199,
   "metadata": {},
   "outputs": [
    {
     "data": {
      "text/plain": [
       "[<matplotlib.lines.Line2D at 0x1a245a12d0>]"
      ]
     },
     "execution_count": 199,
     "metadata": {},
     "output_type": "execute_result"
    },
    {
     "data": {
      "image/png": "[encoded data removed]",
      "text/plain": [
       "<Figure size 432x288 with 1 Axes>"
      ]
     },
     "metadata": {
      "needs_background": "light"
     },
     "output_type": "display_data"
    }
   ],
   "source": [
    "def f(s: StateMP2):\n",
    "    return s.price * 0.1\n",
    "smrp = Sp2mrp(alpha2 = 0.75, f = f)\n",
    "x = []\n",
    "y = []\n",
    "for i in range(50):\n",
    "    \n",
    "    x.append(i)\n",
    "    y.append(smrp.get_value_function(s = StateMP2(price = i, is_prev_move_up = None), iternum = 100, trnum = 100, gamma = 0.7))\n",
    "plt.plot(x, y)"
   ]
  },
  {
   "cell_type": "code",
   "execution_count": null,
   "metadata": {},
   "outputs": [],
   "source": []
  },
  {
   "cell_type": "code",
   "execution_count": null,
   "metadata": {},
   "outputs": [],
   "source": []
  }
 ],
 "metadata": {
  "kernelspec": {
   "display_name": "Python 3",
   "language": "python",
   "name": "python3"
  },
  "language_info": {
   "codemirror_mode": {
    "name": "ipython",
    "version": 3
   },
   "file_extension": ".py",
   "mimetype": "text/x-python",
   "name": "python",
   "nbconvert_exporter": "python",
   "pygments_lexer": "ipython3",
   "version": "3.7.4"
  }
 },
 "nbformat": 4,
 "nbformat_minor": 2
}
