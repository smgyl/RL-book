{
 "cells": [
  {
   "cell_type": "markdown",
   "metadata": {},
   "source": [
    "$$q_1(s_1, a_1) = 8 + 0.2 \\cdot 10 + 0.6 \\cdot 1 = 10.6$$\n",
    "$$q_1(s_1, a_2) = 10 + 0.1 \\cdot 10 + 0.2 \\cdot 1 = 11.2$$\n",
    "$$q_1(s_2, a_1) = 1 + 0.3 \\cdot 10 + 0.3 \\cdot 1 = 4.3$$\n",
    "$$q_1(s_2, a_2) = -1 + 0.5 \\cdot 10 + 0.3 \\cdot 1 = 4.3$$\n",
    "$$v_1(s_1) = 11.2$$\n",
    "$$v_1(s_2) = 4.3$$\n",
    "$$\\pi_1(s_1) = a_2$$\n",
    "$$\\pi_1(s_2) = \\{a_1, a_2\\}$$\n",
    "$$q_2(s_1, a_1) = 8 + 0.2 \\cdot 11.2 + 0.6 \\cdot 4.3 = 12.82$$\n",
    "$$q_2(s_1, a_2) = 10 + 0.1 \\cdot 11.2 + 0.2 \\cdot 4.3 = 11.98$$\n",
    "$$q_2(s_2, a_1) = 1 + 0.3 \\cdot 11.2 + 0.3 \\cdot 4.3 = 5.65$$\n",
    "$$q_2(s_2, a_2) = -1 + 0.5 \\cdot 11.2 + 0.3 \\cdot 4.3 = 5.89$$\n",
    "$$v_2(s_1) = 12.82$$\n",
    "$$v_2(s_2) = 5.89$$\n",
    "$$\\pi_2(s_1) = a_1$$\n",
    "$$\\pi_2(s_2) = a_2$$\n",
    "\n",
    "\n",
    "if $k > 2$, then $v_{k-1}(s_1) \\geq v_2(s_1) > 10$,  $v_{k-1}(s_2) \\geq v_2(s_2) > 5$.\n",
    "\n",
    "$$q_k(s_1, a_1) - q_k(s_1, a_2) = -2 + 0.1 \\cdot v_{k-1}(s_1) + 0.4 \\cdot v_{k-1}(s_2) > 0$$\n",
    "$$q_k(s_2, a_1) - q_k(s_2, a_2) = 2 - 0.2 \\cdot v_{k-1}(s_2) < 0$$\n",
    "\n",
    "$$\\pi_k(s_1) = a_1$$\n",
    "$$\\pi_k(s_2) = a_2$$"
   ]
  },
  {
   "cell_type": "code",
   "execution_count": null,
   "metadata": {},
   "outputs": [],
   "source": []
  }
 ],
 "metadata": {
  "kernelspec": {
   "display_name": "Python 3",
   "language": "python",
   "name": "python3"
  },
  "language_info": {
   "codemirror_mode": {
    "name": "ipython",
    "version": 3
   },
   "file_extension": ".py",
   "mimetype": "text/x-python",
   "name": "python",
   "nbconvert_exporter": "python",
   "pygments_lexer": "ipython3",
   "version": "3.7.4"
  }
 },
 "nbformat": 4,
 "nbformat_minor": 2
}
