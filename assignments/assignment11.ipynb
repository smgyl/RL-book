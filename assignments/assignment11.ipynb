{
 "cells": [
  {
   "cell_type": "code",
   "execution_count": 1,
   "metadata": {},
   "outputs": [],
   "source": [
    "import sys\n",
    "sys.path.append('/Users/mac/Downloads/RL-book-master')\n"
   ]
  },
  {
   "cell_type": "code",
   "execution_count": 7,
   "metadata": {},
   "outputs": [],
   "source": [
    "from typing import Iterable, Iterator, Tuple, TypeVar, List, Mapping\n",
    "\n",
    "from rl.distribution import Distribution\n",
    "from rl.function_approx import FunctionApprox\n",
    "import rl.markov_process as mp\n",
    "import rl.markov_decision_process as markov_decision_process\n",
    "from rl.markov_decision_process import (MarkovDecisionProcess)\n",
    "from rl.returns import returns\n",
    "from copy import deepcopy\n",
    "\n",
    "S = TypeVar('S')\n",
    "A = TypeVar('A')"
   ]
  },
  {
   "cell_type": "code",
   "execution_count": 33,
   "metadata": {},
   "outputs": [],
   "source": [
    "def tabular_mc_prediction(\n",
    "        traces: Iterable[Iterable[mp.TransitionStep[S]]],\n",
    "        γ: float,\n",
    "        tolerance: float = 1e-6\n",
    ") -> List[Mapping[S,float]]:\n",
    "    episodes: Iterator[Iterator[mp.ReturnStep[S]]] = \\\n",
    "        (returns(trace, γ, tolerance) for trace in traces)\n",
    "    process = []\n",
    "    counts = {}\n",
    "    update = {}\n",
    "    for episode in episodes:\n",
    "        if len(process):\n",
    "            update = deepcopy(process[-1])\n",
    "        for step in episode:\n",
    "            counts[step.state] = counts.get(step.state, 0) + 1\n",
    "            update[step.state] = (1 - 1. / counts[step.state]) *\\\n",
    "            update.get(step.state, 0) + 1. / counts[step.state] * step.return_\n",
    "        process.append(update)\n",
    "    return process\n",
    "            \n"
   ]
  }
 ],
 "metadata": {
  "kernelspec": {
   "display_name": "Python 3",
   "language": "python",
   "name": "python3"
  },
  "language_info": {
   "codemirror_mode": {
    "name": "ipython",
    "version": 3
   },
   "file_extension": ".py",
   "mimetype": "text/x-python",
   "name": "python",
   "nbconvert_exporter": "python",
   "pygments_lexer": "ipython3",
   "version": "3.7.4"
  }
 },
 "nbformat": 4,
 "nbformat_minor": 2
}
