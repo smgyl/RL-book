{
 "cells": [
  {
   "cell_type": "code",
   "execution_count": 1,
   "metadata": {},
   "outputs": [],
   "source": [
    "import sys\n",
    "sys.path.append('/Users/mac/Downloads/RL-book-master')"
   ]
  },
  {
   "cell_type": "code",
   "execution_count": 2,
   "metadata": {},
   "outputs": [],
   "source": [
    "from typing import Iterable, Iterator, Tuple, TypeVar, Mapping\n",
    "\n",
    "from rl.distribution import (Bernoulli, Constant, Categorical, Choose,\n",
    "                             Distribution, FiniteDistribution)\n",
    "from rl.function_approx import FunctionApprox\n",
    "import rl.markov_process as mp\n",
    "import rl.markov_decision_process as markov_decision_process\n",
    "from rl.markov_decision_process import (MarkovDecisionProcess, Policy)\n",
    "from rl.returns import returns\n",
    "from collections import defaultdict\n",
    "import numpy as np\n",
    "S = TypeVar('S')\n",
    "A = TypeVar('A')"
   ]
  },
  {
   "cell_type": "code",
   "execution_count": 3,
   "metadata": {},
   "outputs": [],
   "source": [
    "def my_policy_from_q(\n",
    "        q: Mapping[Tuple[S,A],float],\n",
    "        mdp: MarkovDecisionProcess[S, A],\n",
    "        ϵ: float = 0.0\n",
    ") -> Policy[S, A]:\n",
    "    explore = Bernoulli(ϵ)\n",
    "\n",
    "    class QPolicy(Policy[S, A]):\n",
    "        def act(self, s: S) -> Optional[Distribution[A]]:\n",
    "            if mdp.is_terminal(s):\n",
    "                return None\n",
    "\n",
    "            if explore.sample():\n",
    "                return Choose(set(mdp.actions(s)))\n",
    "            \n",
    "            action = None\n",
    "            maximum = -np.Inf\n",
    "            for a in mdp.actions(s):\n",
    "                if q[(s, a)] > maximum:\n",
    "                    maximum = q[(s, a)]\n",
    "                    action = a\n",
    "            return Constant(action)\n",
    "\n",
    "    return QPolicy()"
   ]
  },
  {
   "cell_type": "code",
   "execution_count": 4,
   "metadata": {},
   "outputs": [],
   "source": [
    "def tabular_mc_control_glie(\n",
    "        mdp: MarkovDecisionProcess[S, A],\n",
    "        states: Distribution[S],\n",
    "        γ: float,\n",
    "        episode_num : int = 10000,\n",
    "        tolerance: float = 1e-6\n",
    ") -> Iterator[FunctionApprox[Tuple[S, A]]]:\n",
    "    process = []\n",
    "    counts = {}\n",
    "    q = defaultdict(int)\n",
    "    p = my_policy_from_q(q, mdp)\n",
    "    for i in range(episode_num):\n",
    "        trace = mdp.simulate_actions(states, p)\n",
    "        episode = returns(trace,γ,tolerance)\n",
    "        epsilon = 1. / (1 + i)\n",
    "        for step in episode:\n",
    "            counts[(step.state, step.action)] = counts.get((step.state, step.action), 0) + 1\n",
    "            q[(step.state, step.action)] = (1 - 1. / counts[(step.state, step.action)]) *\\\n",
    "            q.get((step.state, step.action), 0) + 1. / counts[(step.state, step.action)] * step.return_\n",
    "        process.append(q)\n",
    "        p = my_policy_from_q(q, mdp, epsilon)\n",
    "    return process"
   ]
  },
  {
   "cell_type": "code",
   "execution_count": 5,
   "metadata": {},
   "outputs": [],
   "source": [
    "def mc_control_glie(\n",
    "        mdp: MarkovDecisionProcess[S, A],\n",
    "        states: Distribution[S],\n",
    "        approx_0: FunctionApprox[Tuple[S, A]],\n",
    "        γ: float,\n",
    "        tolerance: float = 1e-6\n",
    ") -> Iterator[FunctionApprox[Tuple[S, A]]]:\n",
    "   \n",
    "    q = approx_0\n",
    "    p = markov_decision_process.policy_from_q(q, mdp)\n",
    "    episode = 1\n",
    "    while True:\n",
    "        trace: Iterable[markov_decision_process.TransitionStep[S, A]] =\\\n",
    "            mdp.simulate_actions(states, p)\n",
    "        q = q.update(\n",
    "            ((step.state, step.action), step.return_)\n",
    "            for step in returns(trace, γ, tolerance)\n",
    "        )\n",
    "        episode += 1\n",
    "        p = markov_decision_process.policy_from_q(q, mdp, 1./ episode)\n",
    "        yield q"
   ]
  },
  {
   "cell_type": "code",
   "execution_count": null,
   "metadata": {},
   "outputs": [],
   "source": []
  }
 ],
 "metadata": {
  "kernelspec": {
   "display_name": "Python 3",
   "language": "python",
   "name": "python3"
  },
  "language_info": {
   "codemirror_mode": {
    "name": "ipython",
    "version": 3
   },
   "file_extension": ".py",
   "mimetype": "text/x-python",
   "name": "python",
   "nbconvert_exporter": "python",
   "pygments_lexer": "ipython3",
   "version": "3.7.4"
  }
 },
 "nbformat": 4,
 "nbformat_minor": 2
}
